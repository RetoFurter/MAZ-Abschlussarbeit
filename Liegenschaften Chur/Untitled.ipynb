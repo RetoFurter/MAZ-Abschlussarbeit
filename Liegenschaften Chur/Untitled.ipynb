{
 "cells": [
  {
   "cell_type": "code",
   "execution_count": null,
   "metadata": {},
   "outputs": [],
   "source": [
    "import requests\n",
    "import os\n",
    "import csv\n",
    "import pandas as pd\n",
    "import json\n",
    "from bs4 import BeautifulSoup\n",
    "import re\n",
    "from tqdm import tqdm\n",
    "from bs4 import BeautifulSoup\n",
    "import selenium\n",
    "from selenium import webdriver\n",
    "from selenium.webdriver.common.by import By\n",
    "import time\n",
    "from random import randint\n",
    "from datetime import datetime"
   ]
  },
  {
   "cell_type": "code",
   "execution_count": 12,
   "metadata": {},
   "outputs": [],
   "source": [
    "# PDF auslesen\n",
    "# EGID, Gebäudenummer, Koordinaten etc.\n",
    "\n",
    "import os\n",
    "import textract\n",
    "from tqdm import tqdm\n",
    "import pandas as pd\n",
    "\n",
    "\n",
    "# leere Liste für alle Gebäude\n",
    "alle_gebaeude = []\n",
    "fehlerhafte_pdf = []\n",
    "\n",
    "# PDF in Liste\n",
    "pdfs = [f for f in os.listdir('PDF/') if f.endswith('.pdf') or f.endswith('.PDF')]\n",
    "\n",
    "#for pdf in tqdm(pdfs):\n",
    "\n",
    "    #try:\n",
    "    \n",
    "pdf = \"GEB_PUBLIC190657895.pdf\"\n",
    "        \n",
    "text = textract.process('PDF/' + pdf, method='pdfminer', encoding='ISO-8859-1')\n",
    "text = text.decode(\"ISO-8859-1\").replace(\"\\n\", \"xxxxxxxxxx\").split(\"xxxxxxxxxx\")\n",
    "\n",
    "\n",
    "\n",
    "        #minidict grad mit den gewünschten elementen\n",
    "\n",
    "startposition = text.index('ParzNr.')\n",
    "GrundstueckNummer = text[2 + startposition] \n",
    "        \n",
    "startposition = text.index('Eidg. Gebäudeidentifikator')\n",
    "EGID = text[2 + startposition]\n",
    "        \n",
    "startposition = text.index('X-Wert')\n",
    "GebaeudeKoordinateX = text[-6 + startposition]\n",
    "        \n",
    "startposition = text.index('Y-Wert')\n",
    "GebaeudeKoordinateY = text[2 + startposition]\n",
    "        \n",
    "startposition = text.index('Baujahr')\n",
    "Baujahr = text[1 + startposition]\n",
    "           \n",
    "startposition = text.index('Gebäudekategorie')\n",
    "Gebäudekategorie = text[9 + startposition] + \" \" + text[10 + startposition]\n",
    "           \n",
    "startposition = text.index('Gebäudeklasse')\n",
    "Gebäudeklassenummer = text[2 + startposition]\n",
    "           \n",
    "startposition = text.index('Gebäudeklasse')\n",
    "Gebäudeklasse = text[9 + startposition] + \" \" + text[10 + startposition]\n",
    "\n",
    "startposition = text.index('Gebäudefläche (in m²)')\n",
    "Gebäudefläche = text[7 + startposition]\n",
    "\n",
    "startposition = text.index('Anz. Geschosse')\n",
    "AnzGeschosse = text[2 + startposition]\n",
    "\n",
    "startposition = text.index('Strasse')\n",
    "GebaeudeStrasse = text[1 + startposition]\n",
    "\n",
    "startposition = text.index('Strasse')\n",
    "GebaeudeHausnummer = text[4 + startposition]\n",
    "             \n",
    "startposition = text.index('PLZ')\n",
    "GebaeudePLZ = text[1 + startposition]\n",
    "             \n",
    "startposition = text.index('Ort')\n",
    "GebaeudeOrt = text[1 + startposition]\n",
    "             \n",
    "            \n"
   ]
  },
  {
   "cell_type": "code",
   "execution_count": 13,
   "metadata": {},
   "outputs": [
    {
     "name": "stdout",
     "output_type": "stream",
     "text": [
      "Kasernenstrasse   53\n"
     ]
    }
   ],
   "source": [
    "print(GebaeudeStrasse, \" \", GebaeudeHausnummer)"
   ]
  },
  {
   "cell_type": "code",
   "execution_count": null,
   "metadata": {},
   "outputs": [],
   "source": [
    "\n",
    "# csv abspeichern\n",
    "file = pd.DataFrame(alle_gebaeude)            \n",
    "headernames = ['Grundstueck-Nummer', 'EGID', 'Gebaeude-Koordinate X', 'Gebaeude-Koordinate Y',\n",
    "               'Gebaeude-Baujahr', 'Gebaeude-Kategorie', 'Gebaeude-Klasse-Nummer',\n",
    "               'Gebaeude-Klasse', 'Gebaeude-Flaeche', 'Gebaeude-Geschosse', 'Gebaeude-Strasse',\n",
    "               'Gebaeude-Hausnummer', 'Gebaeude-PLZ', 'Gebaeude-Ort']\n",
    "\n",
    "file.to_csv('Gebäude_Chur.csv', header=headernames, sep=\";\", index=False)\n",
    "\n",
    "\n",
    "\n",
    "with open(\"fehlerhafte_pdf.csv\", 'w+') as csvfile:\n",
    "    \n",
    "    writer = csv.writer(csvfile, delimiter='\\n')\n",
    "    writer.writerows([fehlerhafte_pdf])\n"
   ]
  }
 ],
 "metadata": {
  "kernelspec": {
   "display_name": "Python 3",
   "language": "python",
   "name": "python3"
  },
  "language_info": {
   "codemirror_mode": {
    "name": "ipython",
    "version": 3
   },
   "file_extension": ".py",
   "mimetype": "text/x-python",
   "name": "python",
   "nbconvert_exporter": "python",
   "pygments_lexer": "ipython3",
   "version": "3.7.6"
  }
 },
 "nbformat": 4,
 "nbformat_minor": 2
}
