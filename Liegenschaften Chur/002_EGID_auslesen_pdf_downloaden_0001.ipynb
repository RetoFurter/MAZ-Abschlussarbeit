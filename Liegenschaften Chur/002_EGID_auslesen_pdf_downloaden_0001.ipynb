{
 "cells": [
  {
   "cell_type": "code",
   "execution_count": 1,
   "metadata": {},
   "outputs": [],
   "source": [
    "import requests\n",
    "import os\n",
    "import csv\n",
    "import pandas as pd\n",
    "import json\n",
    "from bs4 import BeautifulSoup\n",
    "import re\n",
    "from tqdm import tqdm\n",
    "from bs4 import BeautifulSoup\n",
    "import selenium\n",
    "from selenium import webdriver\n",
    "from selenium.webdriver.common.by import By\n",
    "import time\n",
    "from random import randint\n",
    "from datetime import datetime"
   ]
  },
  {
   "cell_type": "code",
   "execution_count": 2,
   "metadata": {},
   "outputs": [],
   "source": [
    "### 3901.csv in Dataframe (EGID)\n",
    "\n",
    "egid = pd.read_csv('EGID/3901/3901.csv', delimiter=';')\n",
    "\n",
    "# Spalte URL hinzufügen\n",
    "egid['URL'] = 'https://www.housing-stat.ch/regbl/resources/public/geb_public/' + egid['EGID'].astype('str') + '?lang=de'\n"
   ]
  },
  {
   "cell_type": "code",
   "execution_count": 3,
   "metadata": {},
   "outputs": [
    {
     "name": "stderr",
     "output_type": "stream",
     "text": [
      "100%|██████████| 5107/5107 [8:14:40<00:00,  5.81s/it]   \n"
     ]
    }
   ],
   "source": [
    "# URL herunterladen, als pdf abspeichern\n",
    "\n",
    "# alle URLS in Liste, für download in Schlaufe\n",
    "url_liste = egid.values.tolist()\n",
    "\n",
    "urls = []\n",
    "url_egid = {}\n",
    "\n",
    "for url_list in url_liste:\n",
    "    # Dictionary je Zeile aus Dataframe\n",
    "    einzelne_egid = url_list[0]\n",
    "    einzelne_url = url_list[13]\n",
    "    \n",
    "    url_egid = {'EGID': einzelne_egid, 'URL': einzelne_url}\n",
    "    urls.append(url_egid)\n",
    "\n",
    "# jede URL runterladen und als pdf abspeichern\n",
    "for url in tqdm(urls):\n",
    "    \n",
    "    inhalt = requests.get(url['URL'], allow_redirects=True)\n",
    "    time.sleep(5)\n",
    "    with open('PDF/GEB_PUBLIC' + str(url['EGID']) + '.pdf', 'wb') as pdffile:\n",
    "        pdffile.write(inhalt.content)\n",
    "        \n",
    "        "
   ]
  },
  {
   "cell_type": "code",
   "execution_count": 4,
   "metadata": {},
   "outputs": [
    {
     "name": "stderr",
     "output_type": "stream",
     "text": [
      "  0%|          | 1/5011 [00:01<1:29:30,  1.07s/it]\n"
     ]
    },
    {
     "ename": "ValueError",
     "evalue": "invalid literal for int() with base 10: ''",
     "output_type": "error",
     "traceback": [
      "\u001b[0;31m---------------------------------------------------------------------------\u001b[0m",
      "\u001b[0;31mValueError\u001b[0m                                Traceback (most recent call last)",
      "\u001b[0;32m<ipython-input-4-232d25701798>\u001b[0m in \u001b[0;36m<module>\u001b[0;34m\u001b[0m\n\u001b[1;32m     31\u001b[0m                 \u001b[0;34m'Gebaeude-Klasse-Nummer'\u001b[0m\u001b[0;34m:\u001b[0m \u001b[0mtext\u001b[0m\u001b[0;34m[\u001b[0m\u001b[0;36m50\u001b[0m\u001b[0;34m]\u001b[0m\u001b[0;34m,\u001b[0m\u001b[0;34m\u001b[0m\u001b[0;34m\u001b[0m\u001b[0m\n\u001b[1;32m     32\u001b[0m                \u001b[0;34m'Gebaeude-Klasse'\u001b[0m\u001b[0;34m:\u001b[0m \u001b[0mtext\u001b[0m\u001b[0;34m[\u001b[0m\u001b[0;36m57\u001b[0m\u001b[0;34m]\u001b[0m \u001b[0;34m+\u001b[0m \u001b[0;34m\" \"\u001b[0m \u001b[0;34m+\u001b[0m \u001b[0mtext\u001b[0m\u001b[0;34m[\u001b[0m\u001b[0;36m58\u001b[0m\u001b[0;34m]\u001b[0m\u001b[0;34m,\u001b[0m\u001b[0;34m\u001b[0m\u001b[0;34m\u001b[0m\u001b[0m\n\u001b[0;32m---> 33\u001b[0;31m                \u001b[0;34m'Gebaeude-Flaeche'\u001b[0m\u001b[0;34m:\u001b[0m \u001b[0mint\u001b[0m\u001b[0;34m(\u001b[0m\u001b[0mtext\u001b[0m\u001b[0;34m[\u001b[0m\u001b[0;36m59\u001b[0m\u001b[0;34m]\u001b[0m\u001b[0;34m.\u001b[0m\u001b[0mreplace\u001b[0m\u001b[0;34m(\u001b[0m\u001b[0;34m' '\u001b[0m\u001b[0;34m,\u001b[0m\u001b[0;34m''\u001b[0m\u001b[0;34m)\u001b[0m\u001b[0;34m)\u001b[0m\u001b[0;34m,\u001b[0m\u001b[0;34m\u001b[0m\u001b[0;34m\u001b[0m\u001b[0m\n\u001b[0m\u001b[1;32m     34\u001b[0m                \u001b[0;34m'Gebaeude-Geschosse'\u001b[0m\u001b[0;34m:\u001b[0m \u001b[0mint\u001b[0m\u001b[0;34m(\u001b[0m\u001b[0mtext\u001b[0m\u001b[0;34m[\u001b[0m\u001b[0;36m64\u001b[0m\u001b[0;34m]\u001b[0m\u001b[0;34m.\u001b[0m\u001b[0mreplace\u001b[0m\u001b[0;34m(\u001b[0m\u001b[0;34m' '\u001b[0m\u001b[0;34m,\u001b[0m\u001b[0;34m''\u001b[0m\u001b[0;34m)\u001b[0m\u001b[0;34m)\u001b[0m\u001b[0;34m,\u001b[0m\u001b[0;34m\u001b[0m\u001b[0;34m\u001b[0m\u001b[0m\n\u001b[1;32m     35\u001b[0m                \u001b[0;34m'Gebaeude-Strasse'\u001b[0m\u001b[0;34m:\u001b[0m \u001b[0mtext\u001b[0m\u001b[0;34m[\u001b[0m\u001b[0;36m81\u001b[0m\u001b[0;34m]\u001b[0m\u001b[0;34m,\u001b[0m\u001b[0;34m\u001b[0m\u001b[0;34m\u001b[0m\u001b[0m\n",
      "\u001b[0;31mValueError\u001b[0m: invalid literal for int() with base 10: ''"
     ]
    }
   ],
   "source": [
    "# PDF auslesen\n",
    "# EGID, Gebäudenummer, Koordinaten etc.\n",
    "\n",
    "import os\n",
    "import textract\n",
    "from tqdm import tqdm\n",
    "import pandas as pd\n",
    "\n",
    "\n",
    "# leere Liste für alle Gebäude\n",
    "alle_gebaeude = []\n",
    "\n",
    "# PDF in Liste\n",
    "pdfs = [f for f in os.listdir('PDF/') if f.endswith('.pdf') or f.endswith('.PDF')]\n",
    "\n",
    "for pdf in tqdm(pdfs):\n",
    "\n",
    "    #text = textract.process('PDF/' + pdf, method='pdfminer', encoding='ISO-8859-1')\n",
    "    text = textract.process('PDF/' + pdf, method='pdfminer', encoding='ISO-8859-1')\n",
    "    text = text.decode(\"ISO-8859-1\").replace(\"\\n\", \"xxxxxxxxxx\").split(\"xxxxxxxxxx\")\n",
    "\n",
    "\n",
    "    \n",
    "    #minidict grad mit den gewünschten elementen\n",
    "    gebaeude = {'Grundstueck-Nummer': int(text[13].replace(' ','')),\n",
    "               'EGID': int(text[44].replace(' ','')),\n",
    "               'Gebaeude-Koordinate X': int(text[18].replace(' ','')),\n",
    "               'Gebaeude-Koordinate Y': int(text[22].replace(' ','')),\n",
    "               'Gebaeude-Baujahr': int(text[28].replace(' ','')),\n",
    "               'Gebaeude-Kategorie': text[55] + \" \" + text[56],\n",
    "                'Gebaeude-Klasse-Nummer': text[50],\n",
    "               'Gebaeude-Klasse': text[57] + \" \" + text[58],\n",
    "               'Gebaeude-Flaeche': int(text[59].replace(' ','')),\n",
    "               'Gebaeude-Geschosse': int(text[64].replace(' ','')),\n",
    "               'Gebaeude-Strasse': text[81],\n",
    "               'Gebaeude-Hausnummer': text[84],\n",
    "               'Gebaeude-PLZ': text[87],\n",
    "               'Gebaeude-Ort': text[90]}\n",
    "    \n",
    "    alle_gebaeude.append(gebaeude)\n",
    "    \n",
    " \n",
    "\n",
    "\n",
    "# csv abspeichern\n",
    "file = pd.DataFrame(alle_gebaeude)            \n",
    "headernames = ['Grundstueck-Nummer', 'EGID', 'Gebaeude-Koordinate X', 'Gebaeude-Koordinate Y',\n",
    "               'Gebaeude-Baujahr', 'Gebaeude-Kategorie', 'Gebaeude-Klasse-Nummer',\n",
    "               'Gebaeude-Klasse', 'Gebaeude-Flaeche', 'Gebaeude-Geschosse', 'Gebaeude-Strasse',\n",
    "               'Gebaeude-Hausnummer', 'Gebaeude-PLZ', 'Gebaeude-Ort']\n",
    "\n",
    "file.to_csv('Gebäude_Chur.csv', header=headernames, sep=\";\", index=False)\n"
   ]
  },
  {
   "cell_type": "code",
   "execution_count": 7,
   "metadata": {},
   "outputs": [
    {
     "data": {
      "text/plain": [
       "'Pulvermühlestrasse'"
      ]
     },
     "execution_count": 7,
     "metadata": {},
     "output_type": "execute_result"
    }
   ],
   "source": [
    "text[81]"
   ]
  },
  {
   "cell_type": "code",
   "execution_count": null,
   "metadata": {},
   "outputs": [],
   "source": []
  }
 ],
 "metadata": {
  "kernelspec": {
   "display_name": "Python 3",
   "language": "python",
   "name": "python3"
  },
  "language_info": {
   "codemirror_mode": {
    "name": "ipython",
    "version": 3
   },
   "file_extension": ".py",
   "mimetype": "text/x-python",
   "name": "python",
   "nbconvert_exporter": "python",
   "pygments_lexer": "ipython3",
   "version": "3.7.6"
  }
 },
 "nbformat": 4,
 "nbformat_minor": 2
}
