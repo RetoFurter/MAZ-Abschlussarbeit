{
 "cells": [
  {
   "cell_type": "code",
   "execution_count": 1,
   "metadata": {},
   "outputs": [],
   "source": [
    "import requests\n",
    "import os\n",
    "import csv\n",
    "import pandas as pd\n",
    "import json\n",
    "from bs4 import BeautifulSoup\n",
    "import re\n",
    "from tqdm import tqdm\n",
    "from bs4 import BeautifulSoup\n",
    "import selenium\n",
    "from selenium import webdriver\n",
    "from selenium.webdriver.common.by import By\n",
    "import time\n",
    "from random import randint\n",
    "from datetime import datetime"
   ]
  },
  {
   "cell_type": "code",
   "execution_count": 14,
   "metadata": {},
   "outputs": [],
   "source": [
    "# CSV öffnen: EGID-Daten\n",
    "\n",
    "egid = pd.read_csv('Gebäude_Chur.csv', sep=';')\n",
    "egid.head()"
   ]
  },
  {
   "cell_type": "code",
   "execution_count": 58,
   "metadata": {},
   "outputs": [],
   "source": [
    "# CSV öffnen: Grundstück-Daten GIS\n",
    "\n",
    "gis = pd.read_csv('Grundstuecke_Chur.csv', sep=';')\n"
   ]
  },
  {
   "cell_type": "code",
   "execution_count": 59,
   "metadata": {},
   "outputs": [],
   "source": [
    "# GIS bereinigen\n",
    "\n",
    "# überflüssige Spalten löschen\n",
    "gis.pop('3072')\n",
    "gis.pop('Grundstueck-Koordinate X')\n",
    "gis.pop('Grundstueck-Koordinate Y')\n",
    "gis.pop('Grundstueck-Ort')\n",
    "gis.pop('Grundstueck-Gemeinde')\n",
    "\n",
    "# Zeilen mit NaN in Grundstueck-Nummer löschen\n",
    "gis = gis.dropna(axis=0, subset=['Grundstueck-Nummer'])\n",
    "\n",
    "# Grundstueck-Nummer = in int ändern\n",
    "gis[\"Grundstueck-Nummer\"].astype(str)\n",
    "\n",
    "# Reihenfolge der Spalten ändern\n",
    "gis = gis[['Grundstueck-Nummer', 'Grundstueck-Typ', 'Grundstueck-Flaeche', 'Eigentumsart', 'Name', 'Vorname', 'Adresse', 'PLZ', 'Ort', 'Datum der Abfrage']]\n",
    "\n"
   ]
  },
  {
   "cell_type": "code",
   "execution_count": 61,
   "metadata": {},
   "outputs": [
    {
     "data": {
      "text/html": [
       "<div>\n",
       "<style scoped>\n",
       "    .dataframe tbody tr th:only-of-type {\n",
       "        vertical-align: middle;\n",
       "    }\n",
       "\n",
       "    .dataframe tbody tr th {\n",
       "        vertical-align: top;\n",
       "    }\n",
       "\n",
       "    .dataframe thead th {\n",
       "        text-align: right;\n",
       "    }\n",
       "</style>\n",
       "<table border=\"1\" class=\"dataframe\">\n",
       "  <thead>\n",
       "    <tr style=\"text-align: right;\">\n",
       "      <th></th>\n",
       "      <th>Grundstueck-Nummer</th>\n",
       "      <th>Grundstueck-Typ</th>\n",
       "      <th>Grundstueck-Flaeche</th>\n",
       "      <th>Eigentumsart</th>\n",
       "      <th>Name</th>\n",
       "      <th>Vorname</th>\n",
       "      <th>Adresse</th>\n",
       "      <th>PLZ</th>\n",
       "      <th>Ort</th>\n",
       "      <th>Datum der Abfrage</th>\n",
       "    </tr>\n",
       "  </thead>\n",
       "  <tbody>\n",
       "    <tr>\n",
       "      <th>0</th>\n",
       "      <td>20015.0</td>\n",
       "      <td>Liegenschaft</td>\n",
       "      <td>87.0</td>\n",
       "      <td>Alleineigentum</td>\n",
       "      <td>Hug</td>\n",
       "      <td>Claudio</td>\n",
       "      <td>Arosastrasse 15</td>\n",
       "      <td>7026</td>\n",
       "      <td>Maladers</td>\n",
       "      <td>2020-01-14 22:27:24.452206</td>\n",
       "    </tr>\n",
       "    <tr>\n",
       "      <th>1</th>\n",
       "      <td>8941.0</td>\n",
       "      <td>SelbstRecht, Baurecht</td>\n",
       "      <td>2067.0</td>\n",
       "      <td>Alleineigentum</td>\n",
       "      <td>Wohnbaugenossenschaft der Stadt Chur WSC</td>\n",
       "      <td>NaN</td>\n",
       "      <td>Poststrasse 37</td>\n",
       "      <td>7000</td>\n",
       "      <td>Chur</td>\n",
       "      <td>2020-01-04 09:53:41.520933</td>\n",
       "    </tr>\n",
       "    <tr>\n",
       "      <th>2</th>\n",
       "      <td>3814.0</td>\n",
       "      <td>Liegenschaft</td>\n",
       "      <td>708.0</td>\n",
       "      <td>Alleineigentum</td>\n",
       "      <td>Stiftung Kantonsspital Graubünden</td>\n",
       "      <td>NaN</td>\n",
       "      <td>Loëstrasse 170</td>\n",
       "      <td>7000</td>\n",
       "      <td>Chur</td>\n",
       "      <td>2020-01-10 06:15:36.154510</td>\n",
       "    </tr>\n",
       "    <tr>\n",
       "      <th>3</th>\n",
       "      <td>20773.0</td>\n",
       "      <td>Liegenschaft</td>\n",
       "      <td>108.0</td>\n",
       "      <td>Alleineigentum</td>\n",
       "      <td>Müller</td>\n",
       "      <td>Beda (verbeiratet)</td>\n",
       "      <td>Churerweg 39</td>\n",
       "      <td>7026</td>\n",
       "      <td>Maladers</td>\n",
       "      <td>2020-01-15 01:43:03.125015</td>\n",
       "    </tr>\n",
       "    <tr>\n",
       "      <th>4</th>\n",
       "      <td>20767.0</td>\n",
       "      <td>Liegenschaft</td>\n",
       "      <td>858.0</td>\n",
       "      <td>Alleineigentum</td>\n",
       "      <td>Hassler</td>\n",
       "      <td>Anton</td>\n",
       "      <td>Schloss 48</td>\n",
       "      <td>7026</td>\n",
       "      <td>Maladers</td>\n",
       "      <td>2020-01-15 01:41:30.871202</td>\n",
       "    </tr>\n",
       "  </tbody>\n",
       "</table>\n",
       "</div>"
      ],
      "text/plain": [
       "   Grundstueck-Nummer        Grundstueck-Typ  Grundstueck-Flaeche  \\\n",
       "0             20015.0           Liegenschaft                 87.0   \n",
       "1              8941.0  SelbstRecht, Baurecht               2067.0   \n",
       "2              3814.0           Liegenschaft                708.0   \n",
       "3             20773.0           Liegenschaft                108.0   \n",
       "4             20767.0           Liegenschaft                858.0   \n",
       "\n",
       "     Eigentumsart                                      Name  \\\n",
       "0  Alleineigentum                                       Hug   \n",
       "1  Alleineigentum  Wohnbaugenossenschaft der Stadt Chur WSC   \n",
       "2  Alleineigentum         Stiftung Kantonsspital Graubünden   \n",
       "3  Alleineigentum                                    Müller   \n",
       "4  Alleineigentum                                   Hassler   \n",
       "\n",
       "              Vorname          Adresse   PLZ       Ort  \\\n",
       "0             Claudio  Arosastrasse 15  7026  Maladers   \n",
       "1                 NaN   Poststrasse 37  7000      Chur   \n",
       "2                 NaN   Loëstrasse 170  7000      Chur   \n",
       "3  Beda (verbeiratet)     Churerweg 39  7026  Maladers   \n",
       "4               Anton       Schloss 48  7026  Maladers   \n",
       "\n",
       "            Datum der Abfrage  \n",
       "0  2020-01-14 22:27:24.452206  \n",
       "1  2020-01-04 09:53:41.520933  \n",
       "2  2020-01-10 06:15:36.154510  \n",
       "3  2020-01-15 01:43:03.125015  \n",
       "4  2020-01-15 01:41:30.871202  "
      ]
     },
     "execution_count": 61,
     "metadata": {},
     "output_type": "execute_result"
    }
   ],
   "source": [
    "gis.head()"
   ]
  },
  {
   "cell_type": "code",
   "execution_count": 30,
   "metadata": {},
   "outputs": [
    {
     "data": {
      "text/plain": [
       "Adresse                  object\n",
       "Datum der Abfrage        object\n",
       "Eigentumsart             object\n",
       "Grundstueck-Flaeche     float64\n",
       "Grundstueck-Gemeinde     object\n",
       "Grundstueck-Nummer      float64\n",
       "Grundstueck-Ort          object\n",
       "Grundstueck-Typ          object\n",
       "Name                     object\n",
       "Ort                      object\n",
       "PLZ                      object\n",
       "Vorname                  object\n",
       "dtype: object"
      ]
     },
     "execution_count": 30,
     "metadata": {},
     "output_type": "execute_result"
    }
   ],
   "source": [
    "gis.dtypes"
   ]
  },
  {
   "cell_type": "code",
   "execution_count": null,
   "metadata": {},
   "outputs": [],
   "source": []
  }
 ],
 "metadata": {
  "kernelspec": {
   "display_name": "Python 3",
   "language": "python",
   "name": "python3"
  },
  "language_info": {
   "codemirror_mode": {
    "name": "ipython",
    "version": 3
   },
   "file_extension": ".py",
   "mimetype": "text/x-python",
   "name": "python",
   "nbconvert_exporter": "python",
   "pygments_lexer": "ipython3",
   "version": "3.7.6"
  }
 },
 "nbformat": 4,
 "nbformat_minor": 2
}
