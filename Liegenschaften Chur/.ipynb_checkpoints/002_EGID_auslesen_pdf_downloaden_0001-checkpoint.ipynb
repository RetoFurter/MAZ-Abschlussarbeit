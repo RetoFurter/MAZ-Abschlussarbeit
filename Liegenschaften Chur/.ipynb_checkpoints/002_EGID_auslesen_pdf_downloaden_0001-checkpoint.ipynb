{
 "cells": [
  {
   "cell_type": "code",
   "execution_count": 1,
   "metadata": {},
   "outputs": [],
   "source": [
    "import requests\n",
    "import os\n",
    "import csv\n",
    "import pandas as pd\n",
    "import json\n",
    "from bs4 import BeautifulSoup\n",
    "import re\n",
    "from tqdm import tqdm\n",
    "from bs4 import BeautifulSoup\n",
    "import selenium\n",
    "from selenium import webdriver\n",
    "from selenium.webdriver.common.by import By\n",
    "import time\n",
    "from random import randint\n",
    "from datetime import datetime"
   ]
  },
  {
   "cell_type": "code",
   "execution_count": 2,
   "metadata": {},
   "outputs": [],
   "source": [
    "### 3901.csv in Dataframe (EGID)\n",
    "\n",
    "egid = pd.read_csv('EGID/3901/3901.csv', delimiter=';')\n",
    "\n",
    "# Spalte URL hinzufügen\n",
    "egid['URL'] = 'https://www.housing-stat.ch/regbl/resources/public/geb_public/' + egid['EGID'].astype('str') + '?lang=de'\n"
   ]
  },
  {
   "cell_type": "code",
   "execution_count": 3,
   "metadata": {},
   "outputs": [
    {
     "name": "stderr",
     "output_type": "stream",
     "text": [
      "100%|██████████| 5107/5107 [8:14:40<00:00,  5.81s/it]   \n"
     ]
    }
   ],
   "source": [
    "# URL herunterladen, als pdf abspeichern\n",
    "\n",
    "# alle URLS in Liste, für download in Schlaufe\n",
    "url_liste = egid.values.tolist()\n",
    "\n",
    "urls = []\n",
    "url_egid = {}\n",
    "\n",
    "for url_list in url_liste:\n",
    "    # Dictionary je Zeile aus Dataframe\n",
    "    einzelne_egid = url_list[0]\n",
    "    einzelne_url = url_list[13]\n",
    "    \n",
    "    url_egid = {'EGID': einzelne_egid, 'URL': einzelne_url}\n",
    "    urls.append(url_egid)\n",
    "\n",
    "# jede URL runterladen und als pdf abspeichern\n",
    "for url in tqdm(urls):\n",
    "    \n",
    "    inhalt = requests.get(url['URL'], allow_redirects=True)\n",
    "    time.sleep(5)\n",
    "    with open('PDF/GEB_PUBLIC' + str(url['EGID']) + '.pdf', 'wb') as pdffile:\n",
    "        pdffile.write(inhalt.content)\n",
    "        \n",
    "        "
   ]
  },
  {
   "cell_type": "code",
   "execution_count": 17,
   "metadata": {},
   "outputs": [
    {
     "name": "stderr",
     "output_type": "stream",
     "text": [
      "  0%|          | 0/5011 [00:00<?, ?it/s]\n"
     ]
    },
    {
     "ename": "ValueError",
     "evalue": "invalid literal for int() with base 10: 'Gebäudekoordinaten'",
     "output_type": "error",
     "traceback": [
      "\u001b[0;31m---------------------------------------------------------------------------\u001b[0m",
      "\u001b[0;31mValueError\u001b[0m                                Traceback (most recent call last)",
      "\u001b[0;32m<ipython-input-17-d01ed93a45da>\u001b[0m in \u001b[0;36m<module>\u001b[0;34m\u001b[0m\n\u001b[1;32m     26\u001b[0m \u001b[0;34m\u001b[0m\u001b[0m\n\u001b[1;32m     27\u001b[0m \u001b[0;34m\u001b[0m\u001b[0m\n\u001b[0;32m---> 28\u001b[0;31m     gebaeude = {'Grundstueck-Nummer': int(text[startposition].replace(' ','')),\n\u001b[0m\u001b[1;32m     29\u001b[0m                \u001b[0;34m'EGID'\u001b[0m\u001b[0;34m:\u001b[0m \u001b[0mint\u001b[0m\u001b[0;34m(\u001b[0m\u001b[0mtext\u001b[0m\u001b[0;34m[\u001b[0m\u001b[0mstartposition\u001b[0m \u001b[0;34m+\u001b[0m \u001b[0;36m31\u001b[0m\u001b[0;34m]\u001b[0m\u001b[0;34m.\u001b[0m\u001b[0mreplace\u001b[0m\u001b[0;34m(\u001b[0m\u001b[0;34m' '\u001b[0m\u001b[0;34m,\u001b[0m\u001b[0;34m''\u001b[0m\u001b[0;34m)\u001b[0m\u001b[0;34m)\u001b[0m\u001b[0;34m,\u001b[0m\u001b[0;34m\u001b[0m\u001b[0;34m\u001b[0m\u001b[0m\n\u001b[1;32m     30\u001b[0m                \u001b[0;34m'Gebaeude-Koordinate X'\u001b[0m\u001b[0;34m:\u001b[0m \u001b[0mint\u001b[0m\u001b[0;34m(\u001b[0m\u001b[0mtext\u001b[0m\u001b[0;34m[\u001b[0m\u001b[0mstartposition\u001b[0m \u001b[0;34m+\u001b[0m \u001b[0;36m5\u001b[0m\u001b[0;34m]\u001b[0m\u001b[0;34m.\u001b[0m\u001b[0mreplace\u001b[0m\u001b[0;34m(\u001b[0m\u001b[0;34m' '\u001b[0m\u001b[0;34m,\u001b[0m\u001b[0;34m''\u001b[0m\u001b[0;34m)\u001b[0m\u001b[0;34m)\u001b[0m\u001b[0;34m,\u001b[0m\u001b[0;34m\u001b[0m\u001b[0;34m\u001b[0m\u001b[0m\n",
      "\u001b[0;31mValueError\u001b[0m: invalid literal for int() with base 10: 'Gebäudekoordinaten'"
     ]
    }
   ],
   "source": [
    "# PDF auslesen\n",
    "# EGID, Gebäudenummer, Koordinaten etc.\n",
    "\n",
    "import os\n",
    "import textract\n",
    "from tqdm import tqdm\n",
    "import pandas as pd\n",
    "\n",
    "\n",
    "# leere Liste für alle Gebäude\n",
    "alle_gebaeude = []\n",
    "\n",
    "# PDF in Liste\n",
    "pdfs = [f for f in os.listdir('PDF/') if f.endswith('.pdf') or f.endswith('.PDF')]\n",
    "\n",
    "for pdf in tqdm(pdfs):\n",
    "\n",
    "    text = textract.process('PDF/' + pdf, method='pdfminer', encoding='ISO-8859-1')\n",
    "    text = text.decode(\"ISO-8859-1\").replace(\"\\n\", \"xxxxxxxxxx\").split(\"xxxxxxxxxx\")\n",
    "\n",
    "\n",
    "    \n",
    "    #minidict grad mit den gewünschten elementen\n",
    "    \n",
    "    startposition = text.index('ParzNr.') + 3 # manchmal mehr Adressen oben, daher absolute Startposition ParzNr. + 3\n",
    "    \n",
    "    \n",
    "    gebaeude = {'Grundstueck-Nummer': int(text[startposition].replace(' ','')),\n",
    "               'EGID': int(text[startposition + 31].replace(' ','')),\n",
    "               'Gebaeude-Koordinate X': int(text[startposition + 5].replace(' ','')),\n",
    "               'Gebaeude-Koordinate Y': int(text[startposition + 9].replace(' ','')),\n",
    "               'Gebaeude-Baujahr': int(text[startposition + 15].replace(' ','')),\n",
    "               'Gebaeude-Kategorie': text[startposition + 42] + \" \" + text[startposition + 43],\n",
    "                'Gebaeude-Klasse-Nummer': text[startposition + 37],\n",
    "               'Gebaeude-Klasse': text[startposition + 44] + \" \" + text[startposition + 45],\n",
    "               'Gebaeude-Flaeche': int(text[startposition + 46].replace(' ','')),\n",
    "               'Gebaeude-Geschosse': int(text[startposition + 51].replace(' ','')),\n",
    "               'Gebaeude-Strasse': text[startposition + 68],\n",
    "               'Gebaeude-Hausnummer': text[startposition + 71],\n",
    "               'Gebaeude-PLZ': text[startposition + 74],\n",
    "               'Gebaeude-Ort': text[startposition + 77]}\n",
    "    \n",
    "    alle_gebaeude.append(gebaeude)\n",
    " \n",
    "\n",
    "\n",
    "# csv abspeichern\n",
    "file = pd.DataFrame(alle_gebaeude)            \n",
    "headernames = ['Grundstueck-Nummer', 'EGID', 'Gebaeude-Koordinate X', 'Gebaeude-Koordinate Y',\n",
    "               'Gebaeude-Baujahr', 'Gebaeude-Kategorie', 'Gebaeude-Klasse-Nummer',\n",
    "               'Gebaeude-Klasse', 'Gebaeude-Flaeche', 'Gebaeude-Geschosse', 'Gebaeude-Strasse',\n",
    "               'Gebaeude-Hausnummer', 'Gebaeude-PLZ', 'Gebaeude-Ort']\n",
    "\n",
    "file.to_csv('Gebäude_Chur.csv', header=headernames, sep=\";\", index=False)\n"
   ]
  },
  {
   "cell_type": "code",
   "execution_count": 15,
   "metadata": {},
   "outputs": [
    {
     "name": "stderr",
     "output_type": "stream",
     "text": [
      "  0%|          | 0/5011 [00:02<?, ?it/s]\n"
     ]
    }
   ],
   "source": [
    "# TEST\n",
    "\n",
    "# PDF auslesen\n",
    "# EGID, Gebäudenummer, Koordinaten etc.\n",
    "\n",
    "import os\n",
    "import textract\n",
    "from tqdm import tqdm\n",
    "import pandas as pd\n",
    "\n",
    "\n",
    "# leere Liste für alle Gebäude\n",
    "alle_gebaeude = []\n",
    "\n",
    "# PDF in Liste\n",
    "pdfs = [f for f in os.listdir('PDF/') if f.endswith('.pdf') or f.endswith('.PDF')]\n",
    "\n",
    "for pdf in tqdm(pdfs):\n",
    "\n",
    "    pdf = 'GEB_PUBLIC190821530.PDF'\n",
    "    text = textract.process('PDF/' + pdf, method='pdfminer', encoding='ISO-8859-1')\n",
    "    text = text.decode(\"ISO-8859-1\").replace(\"\\n\", \"xxxxxxxxxx\").split(\"xxxxxxxxxx\")\n",
    "\n",
    "\n",
    "    \n",
    "    #minidict grad mit den gewünschten elementen\n",
    "    \n",
    "    startposition = text.index('ParzNr.') + 3 # manchmal mehr Adressen oben, daher absolute Startposition ParzNr. + 3\n",
    "    \n",
    "    \n",
    "    gebaeude = {'Grundstueck-Nummer': int(text[startposition].replace(' ','')),\n",
    "               'EGID': int(text[startposition + 31].replace(' ','')),\n",
    "               'Gebaeude-Koordinate X': int(text[startposition + 5].replace(' ','')),\n",
    "               'Gebaeude-Koordinate Y': int(text[startposition + 9].replace(' ','')),\n",
    "               'Gebaeude-Baujahr': int(text[startposition + 15].replace(' ','')),\n",
    "               'Gebaeude-Kategorie': text[startposition + 42] + \" \" + text[startposition + 43],\n",
    "                'Gebaeude-Klasse-Nummer': text[startposition + 37],\n",
    "               'Gebaeude-Klasse': text[startposition + 44] + \" \" + text[startposition + 45],\n",
    "               'Gebaeude-Flaeche': int(text[startposition + 46].replace(' ','')),\n",
    "               'Gebaeude-Geschosse': int(text[startposition + 51].replace(' ','')),\n",
    "               'Gebaeude-Strasse': text[startposition + 68],\n",
    "               'Gebaeude-Hausnummer': text[startposition + 71],\n",
    "               'Gebaeude-PLZ': text[startposition + 74],\n",
    "               'Gebaeude-Ort': text[startposition + 77]}\n",
    "    \n",
    "    alle_gebaeude.append(gebaeude)\n",
    "    \n",
    " \n",
    "    break\n",
    "\n",
    "# csv abspeichern\n",
    "file = pd.DataFrame(alle_gebaeude)            \n",
    "headernames = ['Grundstueck-Nummer', 'EGID', 'Gebaeude-Koordinate X', 'Gebaeude-Koordinate Y',\n",
    "               'Gebaeude-Baujahr', 'Gebaeude-Kategorie', 'Gebaeude-Klasse-Nummer',\n",
    "               'Gebaeude-Klasse', 'Gebaeude-Flaeche', 'Gebaeude-Geschosse', 'Gebaeude-Strasse',\n",
    "               'Gebaeude-Hausnummer', 'Gebaeude-PLZ', 'Gebaeude-Ort']\n",
    "\n",
    "file.to_csv('Gebäude_Chur.csv', header=headernames, sep=\";\", index=False)\n"
   ]
  },
  {
   "cell_type": "code",
   "execution_count": 16,
   "metadata": {},
   "outputs": [
    {
     "data": {
      "text/plain": [
       "{'Grundstueck-Nummer': 5992,\n",
       " 'EGID': 190821530,\n",
       " 'Gebaeude-Koordinate X': 2758072,\n",
       " 'Gebaeude-Koordinate Y': 1190874,\n",
       " 'Gebaeude-Baujahr': 2013,\n",
       " 'Gebaeude-Kategorie': 'Mehrfamilienhaus, ohne  Nebennutzung',\n",
       " 'Gebaeude-Klasse-Nummer': '1122',\n",
       " 'Gebaeude-Klasse': 'Gebäude mit drei oder mehr  Wohnungen',\n",
       " 'Gebaeude-Flaeche': 5565,\n",
       " 'Gebaeude-Geschosse': 6,\n",
       " 'Gebaeude-Strasse': 'Rheinfelsstrasse',\n",
       " 'Gebaeude-Hausnummer': '21',\n",
       " 'Gebaeude-PLZ': '7000',\n",
       " 'Gebaeude-Ort': 'Chur'}"
      ]
     },
     "execution_count": 16,
     "metadata": {},
     "output_type": "execute_result"
    }
   ],
   "source": [
    "gebaeude"
   ]
  },
  {
   "cell_type": "code",
   "execution_count": null,
   "metadata": {},
   "outputs": [],
   "source": []
  }
 ],
 "metadata": {
  "kernelspec": {
   "display_name": "Python 3",
   "language": "python",
   "name": "python3"
  },
  "language_info": {
   "codemirror_mode": {
    "name": "ipython",
    "version": 3
   },
   "file_extension": ".py",
   "mimetype": "text/x-python",
   "name": "python",
   "nbconvert_exporter": "python",
   "pygments_lexer": "ipython3",
   "version": "3.7.6"
  }
 },
 "nbformat": 4,
 "nbformat_minor": 2
}
