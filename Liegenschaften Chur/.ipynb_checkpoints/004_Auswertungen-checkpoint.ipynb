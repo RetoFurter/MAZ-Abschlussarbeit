{
 "cells": [
  {
   "cell_type": "code",
   "execution_count": 5,
   "metadata": {},
   "outputs": [],
   "source": [
    "import requests\n",
    "import os\n",
    "import csv\n",
    "import pandas as pd\n",
    "import json\n",
    "from bs4 import BeautifulSoup\n",
    "import re\n",
    "from tqdm import tqdm\n",
    "from bs4 import BeautifulSoup\n",
    "import selenium\n",
    "from selenium import webdriver\n",
    "from selenium.webdriver.common.by import By\n",
    "import time\n",
    "from random import randint\n",
    "from datetime import datetime\n",
    "import geopandas as gpd\n",
    "from shapely.geometry import Point"
   ]
  },
  {
   "cell_type": "code",
   "execution_count": 50,
   "metadata": {},
   "outputs": [],
   "source": [
    "# CSV öffnen: \n",
    "# Grundbesitz ohne Koordinaten\n",
    "\n",
    "haus = pd.read_csv('Liegenschaftsbesitzer_ohne_Koordinaten.csv', sep=';')\n",
    "                     \n"
   ]
  },
  {
   "cell_type": "code",
   "execution_count": 51,
   "metadata": {},
   "outputs": [
    {
     "data": {
      "text/html": [
       "<div>\n",
       "<style scoped>\n",
       "    .dataframe tbody tr th:only-of-type {\n",
       "        vertical-align: middle;\n",
       "    }\n",
       "\n",
       "    .dataframe tbody tr th {\n",
       "        vertical-align: top;\n",
       "    }\n",
       "\n",
       "    .dataframe thead th {\n",
       "        text-align: right;\n",
       "    }\n",
       "</style>\n",
       "<table border=\"1\" class=\"dataframe\">\n",
       "  <thead>\n",
       "    <tr style=\"text-align: right;\">\n",
       "      <th></th>\n",
       "      <th>Grundstueck-Nummer</th>\n",
       "      <th>Grundstueck-Typ</th>\n",
       "      <th>Grundstueck-Flaeche</th>\n",
       "      <th>Eigentumsart</th>\n",
       "      <th>Name</th>\n",
       "      <th>Vorname</th>\n",
       "      <th>NameVorname</th>\n",
       "      <th>Adresse</th>\n",
       "      <th>PLZ</th>\n",
       "      <th>Ort</th>\n",
       "      <th>Datum der Abfrage</th>\n",
       "    </tr>\n",
       "  </thead>\n",
       "  <tbody>\n",
       "    <tr>\n",
       "      <th>8898</th>\n",
       "      <td>7004</td>\n",
       "      <td>Liegenschaft</td>\n",
       "      <td>987.0</td>\n",
       "      <td>Chur 4 Ringstrasse</td>\n",
       "      <td>7004</td>\n",
       "      <td>Miteigentum</td>\n",
       "      <td>7004 Miteigentum</td>\n",
       "      <td>SCHUMACHER &amp; BURKHARDT AG</td>\n",
       "      <td>NaN</td>\n",
       "      <td>Pulvermühlestrasse 93</td>\n",
       "      <td>2020-01-11 00:13:03.085757</td>\n",
       "    </tr>\n",
       "    <tr>\n",
       "      <th>11424</th>\n",
       "      <td>4800</td>\n",
       "      <td>Liegenschaft</td>\n",
       "      <td>962.0</td>\n",
       "      <td>Stockwerkeigentum</td>\n",
       "      <td>7402 Immobilien AG</td>\n",
       "      <td>NaN</td>\n",
       "      <td>7402 Immobilien AG</td>\n",
       "      <td>Industriestrasse 5</td>\n",
       "      <td>7402</td>\n",
       "      <td>Bonaduz</td>\n",
       "      <td>2020-01-10 21:08:13.313870</td>\n",
       "    </tr>\n",
       "    <tr>\n",
       "      <th>9229</th>\n",
       "      <td>3060</td>\n",
       "      <td>Liegenschaft</td>\n",
       "      <td>169.0</td>\n",
       "      <td>Alleineigentum</td>\n",
       "      <td>7402 Immobilien AG</td>\n",
       "      <td>NaN</td>\n",
       "      <td>7402 Immobilien AG</td>\n",
       "      <td>Industriestrasse 5</td>\n",
       "      <td>7402</td>\n",
       "      <td>Bonaduz</td>\n",
       "      <td>2019-12-29 02:52:34.636383</td>\n",
       "    </tr>\n",
       "    <tr>\n",
       "      <th>9107</th>\n",
       "      <td>11302</td>\n",
       "      <td>Liegenschaft</td>\n",
       "      <td>107.0</td>\n",
       "      <td>Unselbstständiges Grundeigentum</td>\n",
       "      <td>7402 Immobilien AG</td>\n",
       "      <td>NaN</td>\n",
       "      <td>7402 Immobilien AG</td>\n",
       "      <td>Industriestrasse 5</td>\n",
       "      <td>7402.0</td>\n",
       "      <td>Bonaduz</td>\n",
       "      <td>2020-01-04 10:34:26.160320</td>\n",
       "    </tr>\n",
       "    <tr>\n",
       "      <th>5304</th>\n",
       "      <td>3041</td>\n",
       "      <td>Liegenschaft</td>\n",
       "      <td>290.0</td>\n",
       "      <td>Stockwerkeigentum</td>\n",
       "      <td>7402 Immobilien AG</td>\n",
       "      <td>NaN</td>\n",
       "      <td>7402 Immobilien AG</td>\n",
       "      <td>Industriestrasse 5</td>\n",
       "      <td>7402.0</td>\n",
       "      <td>Bonaduz</td>\n",
       "      <td>2019-12-29 02:45:12.816469</td>\n",
       "    </tr>\n",
       "    <tr>\n",
       "      <th>12671</th>\n",
       "      <td>11163</td>\n",
       "      <td>Liegenschaft</td>\n",
       "      <td>2133.0</td>\n",
       "      <td>Unselbstständiges Grundeigentum</td>\n",
       "      <td>7402 Immobilien AG</td>\n",
       "      <td>NaN</td>\n",
       "      <td>7402 Immobilien AG</td>\n",
       "      <td>Industriestrasse 5</td>\n",
       "      <td>7402.0</td>\n",
       "      <td>Bonaduz</td>\n",
       "      <td>2020-01-11 05:01:28.441697</td>\n",
       "    </tr>\n",
       "    <tr>\n",
       "      <th>1383</th>\n",
       "      <td>11156</td>\n",
       "      <td>Liegenschaft</td>\n",
       "      <td>1181.0</td>\n",
       "      <td>Stockwerkeigentum</td>\n",
       "      <td>7402 Immobilien AG</td>\n",
       "      <td>NaN</td>\n",
       "      <td>7402 Immobilien AG</td>\n",
       "      <td>Industriestrasse 5</td>\n",
       "      <td>7402</td>\n",
       "      <td>Bonaduz</td>\n",
       "      <td>2019-12-30 14:25:58.441857</td>\n",
       "    </tr>\n",
       "    <tr>\n",
       "      <th>6429</th>\n",
       "      <td>1120</td>\n",
       "      <td>Liegenschaft</td>\n",
       "      <td>2667.0</td>\n",
       "      <td>Gesamteigentum</td>\n",
       "      <td>7402 Immobilien AG</td>\n",
       "      <td>NaN</td>\n",
       "      <td>7402 Immobilien AG</td>\n",
       "      <td>Industriestrasse 5</td>\n",
       "      <td>7402</td>\n",
       "      <td>Bonaduz</td>\n",
       "      <td>2020-01-01 10:06:55.323045</td>\n",
       "    </tr>\n",
       "    <tr>\n",
       "      <th>4460</th>\n",
       "      <td>3042</td>\n",
       "      <td>Liegenschaft</td>\n",
       "      <td>13.0</td>\n",
       "      <td>Unselbstständiges Grundeigentum</td>\n",
       "      <td>7402 Immobilien AG</td>\n",
       "      <td>NaN</td>\n",
       "      <td>7402 Immobilien AG</td>\n",
       "      <td>Industriestrasse 5</td>\n",
       "      <td>7402.0</td>\n",
       "      <td>Bonaduz</td>\n",
       "      <td>2020-01-10 05:00:46.054705</td>\n",
       "    </tr>\n",
       "    <tr>\n",
       "      <th>12004</th>\n",
       "      <td>11820</td>\n",
       "      <td>Liegenschaft</td>\n",
       "      <td>1180.0</td>\n",
       "      <td>Stockwerkeigentum</td>\n",
       "      <td>7402 Immobilien AG</td>\n",
       "      <td>NaN</td>\n",
       "      <td>7402 Immobilien AG</td>\n",
       "      <td>Industriestrasse 5</td>\n",
       "      <td>7402</td>\n",
       "      <td>Bonaduz</td>\n",
       "      <td>2019-12-30 15:38:57.302760</td>\n",
       "    </tr>\n",
       "  </tbody>\n",
       "</table>\n",
       "</div>"
      ],
      "text/plain": [
       "       Grundstueck-Nummer Grundstueck-Typ  Grundstueck-Flaeche  \\\n",
       "8898                 7004    Liegenschaft                987.0   \n",
       "11424                4800    Liegenschaft                962.0   \n",
       "9229                 3060    Liegenschaft                169.0   \n",
       "9107                11302    Liegenschaft                107.0   \n",
       "5304                 3041    Liegenschaft                290.0   \n",
       "12671               11163    Liegenschaft               2133.0   \n",
       "1383                11156    Liegenschaft               1181.0   \n",
       "6429                 1120    Liegenschaft               2667.0   \n",
       "4460                 3042    Liegenschaft                 13.0   \n",
       "12004               11820    Liegenschaft               1180.0   \n",
       "\n",
       "                          Eigentumsart                Name      Vorname  \\\n",
       "8898                Chur 4 Ringstrasse                7004  Miteigentum   \n",
       "11424                Stockwerkeigentum  7402 Immobilien AG          NaN   \n",
       "9229                    Alleineigentum  7402 Immobilien AG          NaN   \n",
       "9107   Unselbstständiges Grundeigentum  7402 Immobilien AG          NaN   \n",
       "5304                 Stockwerkeigentum  7402 Immobilien AG          NaN   \n",
       "12671  Unselbstständiges Grundeigentum  7402 Immobilien AG          NaN   \n",
       "1383                 Stockwerkeigentum  7402 Immobilien AG          NaN   \n",
       "6429                    Gesamteigentum  7402 Immobilien AG          NaN   \n",
       "4460   Unselbstständiges Grundeigentum  7402 Immobilien AG          NaN   \n",
       "12004                Stockwerkeigentum  7402 Immobilien AG          NaN   \n",
       "\n",
       "               NameVorname                    Adresse     PLZ  \\\n",
       "8898      7004 Miteigentum  SCHUMACHER & BURKHARDT AG     NaN   \n",
       "11424  7402 Immobilien AG          Industriestrasse 5    7402   \n",
       "9229   7402 Immobilien AG          Industriestrasse 5    7402   \n",
       "9107   7402 Immobilien AG          Industriestrasse 5  7402.0   \n",
       "5304   7402 Immobilien AG          Industriestrasse 5  7402.0   \n",
       "12671  7402 Immobilien AG          Industriestrasse 5  7402.0   \n",
       "1383   7402 Immobilien AG          Industriestrasse 5    7402   \n",
       "6429   7402 Immobilien AG          Industriestrasse 5    7402   \n",
       "4460   7402 Immobilien AG          Industriestrasse 5  7402.0   \n",
       "12004  7402 Immobilien AG          Industriestrasse 5    7402   \n",
       "\n",
       "                         Ort           Datum der Abfrage  \n",
       "8898   Pulvermühlestrasse 93  2020-01-11 00:13:03.085757  \n",
       "11424                Bonaduz  2020-01-10 21:08:13.313870  \n",
       "9229                 Bonaduz  2019-12-29 02:52:34.636383  \n",
       "9107                 Bonaduz  2020-01-04 10:34:26.160320  \n",
       "5304                 Bonaduz  2019-12-29 02:45:12.816469  \n",
       "12671                Bonaduz  2020-01-11 05:01:28.441697  \n",
       "1383                 Bonaduz  2019-12-30 14:25:58.441857  \n",
       "6429                 Bonaduz  2020-01-01 10:06:55.323045  \n",
       "4460                 Bonaduz  2020-01-10 05:00:46.054705  \n",
       "12004                Bonaduz  2019-12-30 15:38:57.302760  "
      ]
     },
     "execution_count": 51,
     "metadata": {},
     "output_type": "execute_result"
    }
   ],
   "source": [
    "# Sortieren nach Grundstück-Nummer\n",
    "haus.sort_values(\"NameVorname\").head(10)\n",
    "\n",
    "# Zeilen mit NaN in Grundstueck-Nummer löschen\n",
    "haus = haus.dropna(axis=0, subset=['Name'])\n",
    "\n",
    "# Sortieren nach Grundstück-Nummer\n",
    "haus.sort_values(\"NameVorname\").head(10)\n"
   ]
  },
  {
   "cell_type": "code",
   "execution_count": 52,
   "metadata": {},
   "outputs": [
    {
     "data": {
      "text/plain": [
       "967.0"
      ]
     },
     "execution_count": 52,
     "metadata": {},
     "output_type": "execute_result"
    }
   ],
   "source": [
    "haus['Grundstueck-Flaeche'].median()"
   ]
  },
  {
   "cell_type": "code",
   "execution_count": 53,
   "metadata": {},
   "outputs": [
    {
     "data": {
      "text/plain": [
       "6591039.0"
      ]
     },
     "execution_count": 53,
     "metadata": {},
     "output_type": "execute_result"
    }
   ],
   "source": [
    "haus['Grundstueck-Flaeche'].max()"
   ]
  },
  {
   "cell_type": "code",
   "execution_count": 54,
   "metadata": {},
   "outputs": [
    {
     "data": {
      "text/plain": [
       "3.0"
      ]
     },
     "execution_count": 54,
     "metadata": {},
     "output_type": "execute_result"
    }
   ],
   "source": [
    "haus['Grundstueck-Flaeche'].min()"
   ]
  },
  {
   "cell_type": "code",
   "execution_count": 61,
   "metadata": {},
   "outputs": [
    {
     "data": {
      "text/plain": [
       "Stadt Chur                                  917\n",
       "Kanton Graubünden                           114\n",
       "Bürgergemeinde Chur                         101\n",
       "Politische Gemeinde Maladers                 78\n",
       "domenig IMMOBILIEN AG                        44\n",
       "Caflisch Josina                              31\n",
       "Pensionskasse Graubünden                     31\n",
       "Priesterseminar St. Luzi                     31\n",
       "Zindel AG                                    28\n",
       "Graubündner Kantonalbank                     28\n",
       "Mensa episcopalis curiensis                  28\n",
       "Hassler Armin                                27\n",
       "Rhätische Bahn AG (RhB)                      26\n",
       "Caflisch Mathias                             22\n",
       "Wohngenossenschaft Stampagarten in Chur      22\n",
       "Brunold Jürg                                 22\n",
       "Prada Immo AG                                20\n",
       "Mehli Christian                              19\n",
       "Norbert Candinas AG                          18\n",
       "Evangelische Kirchgemeinde Chur              18\n",
       "Barson AG                                    17\n",
       "Domdekanat Chur, Domkapitel                  17\n",
       "Schweizerische Bundesbahnen SBB              16\n",
       "Brunold Andreas                              16\n",
       "Mathis Arthur                                15\n",
       "Hassler Hartmann                             15\n",
       "Domkapitel Chur                              15\n",
       "Hassler Paul                                 15\n",
       "Schweizerische Eidgenossenschaft (UVEK)      15\n",
       "IBC Energie Wasser Chur (IBC)                14\n",
       "Valcasa AG                                   13\n",
       "Schweizerische Eidgenossenschaft (VBS)       13\n",
       "Arfeld Immobilien AG                         13\n",
       "Ingeniosa AG                                 13\n",
       "Foppa Finanz AG                              12\n",
       "Redoc Immobilien AG                          11\n",
       "Grigis Jasmine                               11\n",
       "De Gani Germano Omar                         11\n",
       "Roston Immobilien AG                         11\n",
       "Hassler Heinz                                11\n",
       "Grigis Renato                                10\n",
       "Allod Immobilien AG                          10\n",
       "Febo Sandra Martina                          10\n",
       "Clement Sebastian                            10\n",
       "Kathmann Ingrid                              10\n",
       "Florin Andreas                               10\n",
       "Jud Ulrich                                   10\n",
       "Foppa Toni                                   10\n",
       "Stiftung Kantonsspital Graubünden            10\n",
       "Gartmann Patrick Curdin                      10\n",
       "Name: NameVorname, dtype: int64"
      ]
     },
     "execution_count": 61,
     "metadata": {},
     "output_type": "execute_result"
    }
   ],
   "source": [
    "# die 50 grössten Grundstück-Besitzer von Chur (Anzahl Grundstücke)\n",
    "\n",
    "haus['NameVorname'].value_counts().head(50)"
   ]
  },
  {
   "cell_type": "code",
   "execution_count": 56,
   "metadata": {},
   "outputs": [
    {
     "data": {
      "text/plain": [
       "NameVorname\n",
       "Bürgergemeinde Chur                        6591039.0\n",
       "Politische Gemeinde Maladers               1850202.0\n",
       "Mensa episcopalis curiensis                 778273.0\n",
       "Schweizerische Eidgenossenschaft (VBS)      537447.0\n",
       "Stadt Chur                                  190703.0\n",
       "Caflisch Josina                             182376.0\n",
       "Kanton Graubünden                           120353.0\n",
       "Rhätische Bahn AG (RhB)                     117376.0\n",
       "Meier Christian                             101317.0\n",
       "Plankis Stiftung                            101128.0\n",
       "Name: Grundstueck-Flaeche, dtype: float64"
      ]
     },
     "execution_count": 56,
     "metadata": {},
     "output_type": "execute_result"
    }
   ],
   "source": [
    "# die 50 grössten Grundstück-Besitzer von Chur (grösste Fläche)\n",
    "\n",
    "grossbesitzer = haus.groupby('NameVorname')['Grundstueck-Flaeche'].max().sort_values(ascending=False).head(10)\n",
    "grossbesitzer"
   ]
  },
  {
   "cell_type": "code",
   "execution_count": 57,
   "metadata": {},
   "outputs": [
    {
     "data": {
      "text/plain": [
       "<matplotlib.axes._subplots.AxesSubplot at 0x1239a6b50>"
      ]
     },
     "execution_count": 57,
     "metadata": {},
     "output_type": "execute_result"
    },
    {
     "data": {
      "image/png": "[encoded data removed]",
      "text/plain": [
       "<Figure size 720x720 with 1 Axes>"
      ]
     },
     "metadata": {
      "needs_background": "light"
     },
     "output_type": "display_data"
    }
   ],
   "source": [
    "# die 50 grössten Grundstück-Besitzer von Chur\n",
    "grossbesitzer.astype(float).hist(bins=500, figsize=(10,10))"
   ]
  }
 ],
 "metadata": {
  "kernelspec": {
   "display_name": "Python 3",
   "language": "python",
   "name": "python3"
  },
  "language_info": {
   "codemirror_mode": {
    "name": "ipython",
    "version": 3
   },
   "file_extension": ".py",
   "mimetype": "text/x-python",
   "name": "python",
   "nbconvert_exporter": "python",
   "pygments_lexer": "ipython3",
   "version": "3.7.6"
  }
 },
 "nbformat": 4,
 "nbformat_minor": 2
}
